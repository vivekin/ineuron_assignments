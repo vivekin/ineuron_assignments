{
 "cells": [
  {
   "cell_type": "raw",
   "id": "1b5cf9de",
   "metadata": {},
   "source": [
    "Write a Python Program to implement your own myreduce() function which works exactly like Python's built-in function reduce()"
   ]
  },
  {
   "cell_type": "code",
   "execution_count": 15,
   "id": "414a2f60",
   "metadata": {},
   "outputs": [
    {
     "data": {
      "text/plain": [
       "10"
      ]
     },
     "execution_count": 15,
     "metadata": {},
     "output_type": "execute_result"
    }
   ],
   "source": [
    "def myreduce(fn,elements):\n",
    "    value=elements[0]     \n",
    "    for i in elements[1::]:\n",
    "        value=fn(value,i)\n",
    "    return value    \n",
    "l=[1,2,3]\n",
    "myreduce(lambda a, b: a+2+b, l)    "
   ]
  },
  {
   "cell_type": "code",
   "execution_count": 26,
   "id": "61abbeb0",
   "metadata": {},
   "outputs": [
    {
     "data": {
      "text/plain": [
       "10"
      ]
     },
     "execution_count": 26,
     "metadata": {},
     "output_type": "execute_result"
    }
   ],
   "source": [
    "def myreduce(fn,elements):\n",
    "    a=iter(elements)\n",
    "    value=next(a)    \n",
    "    for i in range(len(elements)-1):\n",
    "        value=fn(value,next(a))\n",
    "    return value    \n",
    "l=[1,2,3]\n",
    "myreduce(lambda a, b: a+2+b, l)    "
   ]
  },
  {
   "cell_type": "raw",
   "id": "a1ae622d",
   "metadata": {},
   "source": [
    "Write a Python program to implement your own myfilter() function which works exactly like Python's built-in function filter()"
   ]
  },
  {
   "cell_type": "code",
   "execution_count": 38,
   "id": "55380984",
   "metadata": {},
   "outputs": [
    {
     "data": {
      "text/plain": [
       "[7, 3, 4]"
      ]
     },
     "execution_count": 38,
     "metadata": {},
     "output_type": "execute_result"
    }
   ],
   "source": [
    "def myfilter(fn,elements):\n",
    "    return [i for i in elements if fn(i)]\n",
    "\n",
    "l=[1,2,7,3,4]\n",
    "myfilter(lambda a: a>2, l) "
   ]
  },
  {
   "cell_type": "code",
   "execution_count": 39,
   "id": "d76a9148",
   "metadata": {},
   "outputs": [
    {
     "data": {
      "text/plain": [
       "[7, 3, 4]"
      ]
     },
     "execution_count": 39,
     "metadata": {},
     "output_type": "execute_result"
    }
   ],
   "source": [
    "def myfilter(fn,elements): \n",
    "    a=iter(elements)\n",
    "    value=[]   \n",
    "    for i in range(len(elements)):\n",
    "        cur=next(a)\n",
    "        if fn(cur):\n",
    "            value.append(cur)\n",
    "    return value   \n",
    "l=[1,2,7,3,4]\n",
    "myfilter(lambda a: a>2, l)   "
   ]
  },
  {
   "cell_type": "raw",
   "id": "6da146c4",
   "metadata": {},
   "source": [
    "Implement List comprehensions to produce the following lists.\n",
    "Write List comprehensions to produce the following Lists\n"
   ]
  },
  {
   "cell_type": "code",
   "execution_count": 39,
   "id": "b758b8fc",
   "metadata": {},
   "outputs": [
    {
     "data": {
      "text/plain": [
       "['x', 'xx', 'xxx', 'xxxx', 'y', 'yy', 'yyy', 'yyyy', 'z', 'zz', 'zzz', 'zzzz']"
      ]
     },
     "execution_count": 39,
     "metadata": {},
     "output_type": "execute_result"
    }
   ],
   "source": [
    "#create ['x', 'xx', 'xxx', 'xxxx', 'y', 'yy', 'yyy', 'yyyy', 'z', 'zz', 'zzz', 'zzzz']\n",
    "newli=[]\n",
    "[newli.append(i*j) for i in ['x','y','z'] for j in range(1,5)]\n",
    "newli"
   ]
  },
  {
   "cell_type": "code",
   "execution_count": 38,
   "id": "62a4485f",
   "metadata": {},
   "outputs": [
    {
     "data": {
      "text/plain": [
       "['x', 'y', 'z', 'xx', 'yy', 'zz', 'xxx', 'yyy', 'zzz', 'xxxx', 'yyyy', 'zzzz']"
      ]
     },
     "execution_count": 38,
     "metadata": {},
     "output_type": "execute_result"
    }
   ],
   "source": [
    "#create ['x', 'y', 'z', 'xx', 'yy', 'zz', 'xxx', 'yyy', 'zzz', 'xxxx', 'yyyy', 'zzzz']\n",
    "newli=[]\n",
    "[newli.append(i*j)  for i in range(1,5) for j in ['x','y','z']]\n",
    "newli"
   ]
  },
  {
   "cell_type": "code",
   "execution_count": 47,
   "id": "81ffa87d",
   "metadata": {},
   "outputs": [
    {
     "data": {
      "text/plain": [
       "[[2], [3], [4], [3], [4], [5], [4], [5], [6]]"
      ]
     },
     "execution_count": 47,
     "metadata": {},
     "output_type": "execute_result"
    }
   ],
   "source": [
    "#create [[2], [3], [4], [3], [4], [5], [4], [5], [6]] \n",
    "newli=[]\n",
    "[newli.append([i+j])  for i in range(1,4) for j in range(1,4)]\n",
    "newli"
   ]
  },
  {
   "cell_type": "code",
   "execution_count": 50,
   "id": "f244af10",
   "metadata": {},
   "outputs": [
    {
     "data": {
      "text/plain": [
       "[[2, 3, 4, 5], [3, 4, 5, 6], [4, 5, 6, 7], [5, 6, 7, 8]]"
      ]
     },
     "execution_count": 50,
     "metadata": {},
     "output_type": "execute_result"
    }
   ],
   "source": [
    "#create [[2, 3, 4, 5], [3, 4, 5, 6],[4, 5, 6, 7], [5, 6, 7, 8]]\n",
    "newli=[]\n",
    "[newli.append([i+j for j in range(1,5)])  for i in range(1,5)]\n",
    "newli"
   ]
  },
  {
   "cell_type": "code",
   "execution_count": 43,
   "id": "dc1d4b1b",
   "metadata": {},
   "outputs": [
    {
     "data": {
      "text/plain": [
       "[(1, 1), (2, 1), (3, 1), (1, 2), (2, 2), (3, 2), (1, 3), (2, 3), (3, 3)]"
      ]
     },
     "execution_count": 43,
     "metadata": {},
     "output_type": "execute_result"
    }
   ],
   "source": [
    "#create[(1, 1), (2, 1), (3, 1), (1, 2), (2, 2), (3, 2), (1, 3), (2, 3), (3, 3)]\n",
    "[(j,i)  for i in range(2,4) for j in range(1,4)]"
   ]
  },
  {
   "cell_type": "code",
   "execution_count": null,
   "id": "975e7ae9",
   "metadata": {},
   "outputs": [],
   "source": []
  }
 ],
 "metadata": {
  "kernelspec": {
   "display_name": "Python 3",
   "language": "python",
   "name": "python3"
  },
  "language_info": {
   "codemirror_mode": {
    "name": "ipython",
    "version": 3
   },
   "file_extension": ".py",
   "mimetype": "text/x-python",
   "name": "python",
   "nbconvert_exporter": "python",
   "pygments_lexer": "ipython3",
   "version": "3.8.8"
  }
 },
 "nbformat": 4,
 "nbformat_minor": 5
}
