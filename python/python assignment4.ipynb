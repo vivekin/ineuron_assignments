{
 "cells": [
  {
   "cell_type": "raw",
   "id": "bcf42c1f",
   "metadata": {},
   "source": [
    "1.1 Write a Python Program(with class concepts) to find the area of the triangle using the below formula.\n",
    "area = (s*(s-a)*(s-b)*(s-c)) ** 0.5\n",
    "Function to take the length of the sides of triangle from user should be defined in the parent class and function to calculate the area should be defined in subclass.\n"
   ]
  },
  {
   "cell_type": "code",
   "execution_count": 14,
   "id": "9fcc4230",
   "metadata": {},
   "outputs": [
    {
     "name": "stdout",
     "output_type": "stream",
     "text": [
      "enter length of side 1 : 4\n",
      "enter length of side 2 : 5\n",
      "enter length of side 3 : 8\n"
     ]
    },
    {
     "data": {
      "text/plain": [
       "8.181534085976786"
      ]
     },
     "execution_count": 14,
     "metadata": {},
     "output_type": "execute_result"
    }
   ],
   "source": [
    "class triangle:\n",
    "    def __init__(self):\n",
    "        self.a=int(input(\"enter length of side 1 : \"))\n",
    "        self.b=int(input(\"enter length of side 2 : \"))\n",
    "        self.c=int(input(\"enter length of side 3 : \"))\n",
    "class trianglearea(triangle):\n",
    "    def findarea(self):\n",
    "        s=(self.a+self.b+self.c)/2\n",
    "        area =(s*(s-self.a)*(s-self.b)*(s-self.c))**0.5\n",
    "        return area\n",
    "        \n",
    "ar=trianglearea()\n",
    "ar.findarea()"
   ]
  },
  {
   "cell_type": "markdown",
   "id": "09ff1b2c",
   "metadata": {},
   "source": [
    "1.2 Write a function filter_long_words() that takes a list of words and an integer n and returns\n",
    "the list of words that are longer than n."
   ]
  },
  {
   "cell_type": "code",
   "execution_count": 1,
   "id": "43e365cd",
   "metadata": {},
   "outputs": [
    {
     "data": {
      "text/plain": [
       "['abced', 'vvabcd', 'rafdgd']"
      ]
     },
     "execution_count": 1,
     "metadata": {},
     "output_type": "execute_result"
    }
   ],
   "source": [
    "def filter_long_words(a,n):\n",
    "    return [i for i in a if len(i)>n]\n",
    "list=[\"abcd\",\"abced\",\"vvabcd\",\"rafdgd\",\"d\"]\n",
    "filter_long_words(list,4)"
   ]
  },
  {
   "cell_type": "raw",
   "id": "9375274e",
   "metadata": {},
   "source": [
    "2.1 Write a Python program using function concept that maps list of words into a list of integers\n",
    "representing the lengths of the corresponding words.\n",
    "Hint: If a list [ ab,cde,erty] is passed on to the python function output should come as [2,3,4]\n",
    "Here 2,3 and 4 are the lengths of the words in the list."
   ]
  },
  {
   "cell_type": "code",
   "execution_count": 3,
   "id": "95a72cf3",
   "metadata": {},
   "outputs": [
    {
     "data": {
      "text/plain": [
       "[4, 5, 6, 6, 1]"
      ]
     },
     "execution_count": 3,
     "metadata": {},
     "output_type": "execute_result"
    }
   ],
   "source": [
    "def len_words(a):\n",
    "    return [len(i) for i in a]\n",
    "list=[\"abcd\",\"abced\",\"vvabcd\",\"rafdgd\",\"d\"]\n",
    "len_words(list)"
   ]
  },
  {
   "cell_type": "raw",
   "id": "134841f8",
   "metadata": {},
   "source": [
    "2.2 Write a Python function which takes a character (i.e. a string of length 1) and returns True if\n",
    "it is a vowel, False otherwise."
   ]
  },
  {
   "cell_type": "code",
   "execution_count": 12,
   "id": "eda52d24",
   "metadata": {},
   "outputs": [
    {
     "data": {
      "text/plain": [
       "True"
      ]
     },
     "execution_count": 12,
     "metadata": {},
     "output_type": "execute_result"
    }
   ],
   "source": [
    "def check_vowel(a):\n",
    "    if type(a)==str:\n",
    "        if len(a)>1:\n",
    "            raise Exception(\"not a character\")\n",
    "    else:\n",
    "        raise Exception(\"not a character\")\n",
    "    return(a in ('a','e','i','o','u'))\n",
    "\n",
    "check_vowel('u')"
   ]
  },
  {
   "cell_type": "code",
   "execution_count": null,
   "id": "8305519f",
   "metadata": {},
   "outputs": [],
   "source": []
  }
 ],
 "metadata": {
  "kernelspec": {
   "display_name": "Python 3",
   "language": "python",
   "name": "python3"
  },
  "language_info": {
   "codemirror_mode": {
    "name": "ipython",
    "version": 3
   },
   "file_extension": ".py",
   "mimetype": "text/x-python",
   "name": "python",
   "nbconvert_exporter": "python",
   "pygments_lexer": "ipython3",
   "version": "3.8.8"
  }
 },
 "nbformat": 4,
 "nbformat_minor": 5
}
